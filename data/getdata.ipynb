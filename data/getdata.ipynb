{
 "cells": [
  {
   "cell_type": "code",
   "execution_count": 1,
   "metadata": {},
   "outputs": [
    {
     "name": "stdout",
     "output_type": "stream",
     "text": [
      "Lade den Datensatz 'ruthgn/wine-quality-data-set-red-white-wine' herunter...\n",
      "Dataset URL: https://www.kaggle.com/datasets/ruthgn/wine-quality-data-set-red-white-wine\n",
      "Der Datensatz wurde erfolgreich in 'raw' heruntergeladen.\n"
     ]
    }
   ],
   "source": [
    "# Kaggle API konfigurieren\n",
    "import os\n",
    "from kaggle.api.kaggle_api_extended import KaggleApi\n",
    "\n",
    "# Funktion: Kaggle-API konfigurieren und Dataset herunterladen\n",
    "def download_kaggle_dataset(dataset: str, output_dir: str = \"data/raw\"):\n",
    "    \"\"\"\n",
    "    Lädt einen Datensatz von Kaggle herunter und speichert ihn in einem angegebenen Ordner,\n",
    "    falls der Datensatz noch nicht existiert.\n",
    "    \n",
    "    Parameters:\n",
    "        dataset (str): Der Kaggle-Datensatz (z. B. 'ruthgn/wine-quality-data-set-red-white-wine').\n",
    "        output_dir (str): Zielordner zum Speichern der Daten.\n",
    "    \"\"\"\n",
    "    # Sicherstellen, dass der Ordner existiert\n",
    "    os.makedirs(output_dir, exist_ok=True)\n",
    "\n",
    "    # Prüfen, ob der Datensatz bereits existiert\n",
    "    dataset_files = os.listdir(output_dir)\n",
    "    if dataset_files:\n",
    "        print(f\"Der Datensatz existiert bereits im Ordner '{output_dir}'. Kein erneuter Download erforderlich.\")\n",
    "        return\n",
    "    \n",
    "    # Kaggle API initialisieren\n",
    "    api = KaggleApi()\n",
    "    try:\n",
    "        api.authenticate()\n",
    "        print(f\"Lade den Datensatz '{dataset}' herunter...\")\n",
    "        api.dataset_download_files(dataset, path=output_dir, unzip=True)\n",
    "        print(f\"Der Datensatz wurde erfolgreich in '{output_dir}' heruntergeladen.\")\n",
    "    except Exception as e:\n",
    "        print(f\"Fehler beim Herunterladen: {e}\")\n",
    "\n",
    "# Beispiel: Weinqualitäts-Datensatz herunterladen\n",
    "dataset_name = \"ruthgn/wine-quality-data-set-red-white-wine\"  # Benutzerdefinierter Dataset-Name\n",
    "output_directory = \"raw\"\n",
    "\n",
    "download_kaggle_dataset(dataset_name, output_directory)"
   ]
  }
 ],
 "metadata": {
  "kernelspec": {
   "display_name": "Python 3",
   "language": "python",
   "name": "python3"
  },
  "language_info": {
   "codemirror_mode": {
    "name": "ipython",
    "version": 3
   },
   "file_extension": ".py",
   "mimetype": "text/x-python",
   "name": "python",
   "nbconvert_exporter": "python",
   "pygments_lexer": "ipython3",
   "version": "3.12.1"
  }
 },
 "nbformat": 4,
 "nbformat_minor": 2
}
