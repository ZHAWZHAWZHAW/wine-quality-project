{
 "cells": [
  {
   "cell_type": "markdown",
   "metadata": {},
   "source": [
    "# 1) Datensatz herunterladen"
   ]
  },
  {
   "cell_type": "markdown",
   "metadata": {},
   "source": [
    "## 1.1 Importieren der Bibliotheken"
   ]
  },
  {
   "cell_type": "code",
   "execution_count": 4,
   "metadata": {},
   "outputs": [],
   "source": [
    "import os\n",
    "import shutil\n",
    "from kaggle.api.kaggle_api_extended import KaggleApi"
   ]
  },
  {
   "cell_type": "markdown",
   "metadata": {},
   "source": [
    "## 1.2 Datensatz herunterladen"
   ]
  },
  {
   "cell_type": "code",
   "execution_count": 8,
   "metadata": {},
   "outputs": [
    {
     "name": "stdout",
     "output_type": "stream",
     "text": [
      "Lade den Datensatz 'ruthgn/wine-quality-data-set-red-white-wine' herunter...\n",
      "Dataset URL: https://www.kaggle.com/datasets/ruthgn/wine-quality-data-set-red-white-wine\n",
      "Der Datensatz wurde erfolgreich als 'wine_quality.csv' in 'raw' gespeichert.\n"
     ]
    }
   ],
   "source": [
    "# Funktion: Kaggle-API konfigurieren und Dataset herunterladen\n",
    "def download_kaggle_dataset(dataset: str, output_dir: str = \"raw\", output_filename: str = \"wine_quality.csv\"):\n",
    "    \n",
    "    # Sicherstellen, dass der Ordner existiert\n",
    "    os.makedirs(output_dir, exist_ok=True)\n",
    "    \n",
    "    # Prüfen, ob der Ziel-CSV-Dateiname bereits existiert\n",
    "    output_path = os.path.join(output_dir, output_filename)\n",
    "    if os.path.exists(output_path):\n",
    "        print(f\"Die Datei '{output_filename}' existiert bereits im Ordner '{output_dir}'. Kein erneuter Download erforderlich.\")\n",
    "        return\n",
    "    \n",
    "    # Kaggle API initialisieren\n",
    "    api = KaggleApi()\n",
    "    try:\n",
    "        api.authenticate()\n",
    "        print(f\"Lade den Datensatz '{dataset}' herunter...\")\n",
    "        temp_dir = os.path.join(output_dir, \"temp\")\n",
    "        os.makedirs(temp_dir, exist_ok=True)\n",
    "        \n",
    "        # Datensatz herunterladen und entpacken\n",
    "        api.dataset_download_files(dataset, path=temp_dir, unzip=True)\n",
    "        \n",
    "        # Überprüfen, ob Dateien vorhanden sind und umbenennen\n",
    "        downloaded_files = os.listdir(temp_dir)\n",
    "        if downloaded_files:\n",
    "            first_file = os.path.join(temp_dir, downloaded_files[0])\n",
    "            shutil.move(first_file, output_path)\n",
    "            print(f\"Der Datensatz wurde erfolgreich als '{output_filename}' in '{output_dir}' gespeichert.\")\n",
    "        else:\n",
    "            print(\"Keine Dateien zum Verschieben gefunden!\")\n",
    "        \n",
    "        # Temporäres Verzeichnis entfernen\n",
    "        shutil.rmtree(temp_dir)\n",
    "        \n",
    "    except Exception as e:\n",
    "        print(f\"Fehler beim Herunterladen: {e}\")\n",
    "\n",
    "# Weinqualitäts-Datensatz herunterladen\n",
    "dataset_name = \"ruthgn/wine-quality-data-set-red-white-wine\" \n",
    "output_directory = \"raw\"\n",
    "\n",
    "download_kaggle_dataset(dataset_name, output_directory)"
   ]
  },
  {
   "cell_type": "markdown",
   "metadata": {},
   "source": [
    "### Next Step:\n",
    "- Explorative Datenanalyse (EDA): Daten beschreiben, Identifizierung und Verstehen von Beziehungen und Gruppen"
   ]
  }
 ],
 "metadata": {
  "kernelspec": {
   "display_name": "base",
   "language": "python",
   "name": "python3"
  },
  "language_info": {
   "codemirror_mode": {
    "name": "ipython",
    "version": 3
   },
   "file_extension": ".py",
   "mimetype": "text/x-python",
   "name": "python",
   "nbconvert_exporter": "python",
   "pygments_lexer": "ipython3",
   "version": "3.11.5"
  }
 },
 "nbformat": 4,
 "nbformat_minor": 2
}
