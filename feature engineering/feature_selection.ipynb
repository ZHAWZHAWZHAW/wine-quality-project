{
 "cells": [
  {
   "cell_type": "markdown",
   "metadata": {},
   "source": [
    "# 6) Feature Selection & Engineering \n",
    "Analyse der Korrelationen und Kausalitäten, Identifikation der Features (erklärende Variablen),\n",
    "ggf. Optimierung der Datengrundlage"
   ]
  }
 ],
 "metadata": {
  "language_info": {
   "name": "python"
  }
 },
 "nbformat": 4,
 "nbformat_minor": 2
}
