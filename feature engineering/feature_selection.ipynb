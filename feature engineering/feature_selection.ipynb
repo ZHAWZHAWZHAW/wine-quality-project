{
 "cells": [
  {
   "cell_type": "markdown",
   "metadata": {},
   "source": [
    "# 6) Feature Selection & Engineering \n",
    "Analyse der Korrelationen und Kausalitäten, Identifikation der Features (erklärende Variablen),\n",
    "ggf. Optimierung der Datengrundlage"
   ]
  },
  {
   "cell_type": "markdown",
   "metadata": {},
   "source": [
    "### 6.4 Korrelationen analysieren"
   ]
  },
  {
   "cell_type": "code",
   "execution_count": null,
   "metadata": {
    "vscode": {
     "languageId": "plaintext"
    }
   },
   "outputs": [],
   "source": [
    "# Nur numerische Spalten auswählen\n",
    "numerical_data = data.select_dtypes(include=['number'])\n",
    "\n",
    "# Korrelationsmatrix\n",
    "plt.figure(figsize=(10, 8))\n",
    "sns.heatmap(numerical_data.corr(), annot=True, cmap='coolwarm', fmt=\".2f\")\n",
    "plt.title(\"Korrelationsmatrix\")\n",
    "plt.show()"
   ]
  }
 ],
 "metadata": {
  "language_info": {
   "name": "python"
  }
 },
 "nbformat": 4,
 "nbformat_minor": 2
}
