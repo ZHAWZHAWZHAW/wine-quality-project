{
 "cells": [
  {
   "cell_type": "markdown",
   "metadata": {},
   "source": [
    "# 4) Data Cleansing\n",
    "Beurteilung der Datenqualität und erforderliche Bereinigung der Daten"
   ]
  },
  {
   "cell_type": "markdown",
   "metadata": {},
   "source": [
    "## 4.1 Importieren der Bibliotheken"
   ]
  },
  {
   "cell_type": "code",
   "execution_count": 1,
   "metadata": {},
   "outputs": [],
   "source": [
    "import os\n",
    "import pandas as pd\n",
    "import numpy as np\n",
    "import matplotlib.pyplot as plt\n",
    "import seaborn as sns\n",
    "from sklearn.preprocessing import MinMaxScaler"
   ]
  },
  {
   "cell_type": "markdown",
   "metadata": {},
   "source": [
    "## 4.1 Laden des Datensatzes"
   ]
  },
  {
   "cell_type": "code",
   "execution_count": 2,
   "metadata": {},
   "outputs": [
    {
     "name": "stdout",
     "output_type": "stream",
     "text": [
      "File found! Loading...\n",
      "Dataset loaded successfully.\n",
      "Shape of the dataset: (6497, 14)\n"
     ]
    },
    {
     "data": {
      "text/html": [
       "<div>\n",
       "<style scoped>\n",
       "    .dataframe tbody tr th:only-of-type {\n",
       "        vertical-align: middle;\n",
       "    }\n",
       "\n",
       "    .dataframe tbody tr th {\n",
       "        vertical-align: top;\n",
       "    }\n",
       "\n",
       "    .dataframe thead th {\n",
       "        text-align: right;\n",
       "    }\n",
       "</style>\n",
       "<table border=\"1\" class=\"dataframe\">\n",
       "  <thead>\n",
       "    <tr style=\"text-align: right;\">\n",
       "      <th></th>\n",
       "      <th>type</th>\n",
       "      <th>fixed acidity</th>\n",
       "      <th>volatile acidity</th>\n",
       "      <th>citric acid</th>\n",
       "      <th>residual sugar</th>\n",
       "      <th>chlorides</th>\n",
       "      <th>free sulfur dioxide</th>\n",
       "      <th>total sulfur dioxide</th>\n",
       "      <th>density</th>\n",
       "      <th>pH</th>\n",
       "      <th>sulphates</th>\n",
       "      <th>alcohol</th>\n",
       "      <th>quality</th>\n",
       "      <th>quality_category</th>\n",
       "    </tr>\n",
       "  </thead>\n",
       "  <tbody>\n",
       "    <tr>\n",
       "      <th>0</th>\n",
       "      <td>1</td>\n",
       "      <td>7.0</td>\n",
       "      <td>0.27</td>\n",
       "      <td>0.36</td>\n",
       "      <td>20.7</td>\n",
       "      <td>0.045</td>\n",
       "      <td>45.0</td>\n",
       "      <td>170.0</td>\n",
       "      <td>1.0010</td>\n",
       "      <td>3.00</td>\n",
       "      <td>0.45</td>\n",
       "      <td>8.8</td>\n",
       "      <td>6</td>\n",
       "      <td>Okay</td>\n",
       "    </tr>\n",
       "    <tr>\n",
       "      <th>1</th>\n",
       "      <td>1</td>\n",
       "      <td>6.3</td>\n",
       "      <td>0.30</td>\n",
       "      <td>0.34</td>\n",
       "      <td>1.6</td>\n",
       "      <td>0.049</td>\n",
       "      <td>14.0</td>\n",
       "      <td>132.0</td>\n",
       "      <td>0.9940</td>\n",
       "      <td>3.30</td>\n",
       "      <td>0.49</td>\n",
       "      <td>9.5</td>\n",
       "      <td>6</td>\n",
       "      <td>Okay</td>\n",
       "    </tr>\n",
       "    <tr>\n",
       "      <th>2</th>\n",
       "      <td>1</td>\n",
       "      <td>8.1</td>\n",
       "      <td>0.28</td>\n",
       "      <td>0.40</td>\n",
       "      <td>6.9</td>\n",
       "      <td>0.050</td>\n",
       "      <td>30.0</td>\n",
       "      <td>97.0</td>\n",
       "      <td>0.9951</td>\n",
       "      <td>3.26</td>\n",
       "      <td>0.44</td>\n",
       "      <td>10.1</td>\n",
       "      <td>6</td>\n",
       "      <td>Okay</td>\n",
       "    </tr>\n",
       "    <tr>\n",
       "      <th>3</th>\n",
       "      <td>1</td>\n",
       "      <td>7.2</td>\n",
       "      <td>0.23</td>\n",
       "      <td>0.32</td>\n",
       "      <td>8.5</td>\n",
       "      <td>0.058</td>\n",
       "      <td>47.0</td>\n",
       "      <td>186.0</td>\n",
       "      <td>0.9956</td>\n",
       "      <td>3.19</td>\n",
       "      <td>0.40</td>\n",
       "      <td>9.9</td>\n",
       "      <td>6</td>\n",
       "      <td>Okay</td>\n",
       "    </tr>\n",
       "    <tr>\n",
       "      <th>4</th>\n",
       "      <td>1</td>\n",
       "      <td>7.2</td>\n",
       "      <td>0.23</td>\n",
       "      <td>0.32</td>\n",
       "      <td>8.5</td>\n",
       "      <td>0.058</td>\n",
       "      <td>47.0</td>\n",
       "      <td>186.0</td>\n",
       "      <td>0.9956</td>\n",
       "      <td>3.19</td>\n",
       "      <td>0.40</td>\n",
       "      <td>9.9</td>\n",
       "      <td>6</td>\n",
       "      <td>Okay</td>\n",
       "    </tr>\n",
       "  </tbody>\n",
       "</table>\n",
       "</div>"
      ],
      "text/plain": [
       "   type  fixed acidity  volatile acidity  citric acid  residual sugar  \\\n",
       "0     1            7.0              0.27         0.36            20.7   \n",
       "1     1            6.3              0.30         0.34             1.6   \n",
       "2     1            8.1              0.28         0.40             6.9   \n",
       "3     1            7.2              0.23         0.32             8.5   \n",
       "4     1            7.2              0.23         0.32             8.5   \n",
       "\n",
       "   chlorides  free sulfur dioxide  total sulfur dioxide  density    pH  \\\n",
       "0      0.045                 45.0                 170.0   1.0010  3.00   \n",
       "1      0.049                 14.0                 132.0   0.9940  3.30   \n",
       "2      0.050                 30.0                  97.0   0.9951  3.26   \n",
       "3      0.058                 47.0                 186.0   0.9956  3.19   \n",
       "4      0.058                 47.0                 186.0   0.9956  3.19   \n",
       "\n",
       "   sulphates  alcohol  quality quality_category  \n",
       "0       0.45      8.8        6             Okay  \n",
       "1       0.49      9.5        6             Okay  \n",
       "2       0.44     10.1        6             Okay  \n",
       "3       0.40      9.9        6             Okay  \n",
       "4       0.40      9.9        6             Okay  "
      ]
     },
     "metadata": {},
     "output_type": "display_data"
    }
   ],
   "source": [
    "file_path = \"../data/wine_quality_processed.csv\"\n",
    "\n",
    "# Prüfen, ob die Datei existiert\n",
    "if os.path.exists(file_path):\n",
    "    print(\"File found! Loading...\")\n",
    "    data = pd.read_csv(file_path)\n",
    "    print(\"Dataset loaded successfully.\")\n",
    "    print(f\"Shape of the dataset: {data.shape}\")\n",
    "    display(data.head())\n",
    "else:\n",
    "    print(f\"File not found at: {file_path}\")\n"
   ]
  },
  {
   "cell_type": "markdown",
   "metadata": {},
   "source": [
    "## 4.2 Analyse fehlender Werte"
   ]
  },
  {
   "cell_type": "code",
   "execution_count": 3,
   "metadata": {},
   "outputs": [
    {
     "name": "stdout",
     "output_type": "stream",
     "text": [
      "\n",
      "--- Analyse fehlender Werte ---\n",
      "Es wurden keine fehlenden Werte gefunden.\n"
     ]
    }
   ],
   "source": [
    "# Analyse der fehlenden Werte\n",
    "print(\"\\n--- Analyse fehlender Werte ---\")\n",
    "missing_values = data.isnull().sum()\n",
    "missing_summary = missing_values[missing_values > 0]\n",
    "if missing_summary.empty:\n",
    "    print(\"Es wurden keine fehlenden Werte gefunden.\")\n",
    "else:\n",
    "    print(missing_summary.to_string(index=True))\n",
    "\n",
    "    print(\"\\n--- Positionen der fehlenden Werte ---\")\n",
    "    # Liste von Zeilen- und Spaltenindizes der fehlenden Werte\n",
    "    missing_positions = data.isnull().stack().reset_index()\n",
    "    missing_positions.columns = ['Zeile', 'Spalte', 'Fehlt']\n",
    "    missing_positions = missing_positions[missing_positions['Fehlt'] == True].drop(columns=['Fehlt'])\n",
    "\n",
    "    # tabellarische Ausgabe\n",
    "    print(missing_positions.to_string(index=False))"
   ]
  },
  {
   "cell_type": "markdown",
   "metadata": {},
   "source": [
    "# 5) Analysis & Validation\n",
    "Analyse der Verteilungen, Abweichungen & Kennzahlen "
   ]
  },
  {
   "cell_type": "markdown",
   "metadata": {},
   "source": [
    "## 5.1 Statistische Kennzahlen"
   ]
  },
  {
   "cell_type": "code",
   "execution_count": 4,
   "metadata": {},
   "outputs": [
    {
     "name": "stdout",
     "output_type": "stream",
     "text": [
      "\n",
      "--- Statistische Kennzahlen ---\n",
      "              type  fixed acidity  volatile acidity  citric acid  \\\n",
      "count  6497.000000    6497.000000       6497.000000  6497.000000   \n",
      "mean      0.753886       7.215307          0.339666     0.318633   \n",
      "std       0.430779       1.296434          0.164636     0.145318   \n",
      "min       0.000000       3.800000          0.080000     0.000000   \n",
      "25%       1.000000       6.400000          0.230000     0.250000   \n",
      "50%       1.000000       7.000000          0.290000     0.310000   \n",
      "75%       1.000000       7.700000          0.400000     0.390000   \n",
      "max       1.000000      15.900000          1.580000     1.660000   \n",
      "\n",
      "       residual sugar    chlorides  free sulfur dioxide  total sulfur dioxide  \\\n",
      "count     6497.000000  6497.000000          6497.000000           6497.000000   \n",
      "mean         5.443235     0.056034            30.525319            115.744574   \n",
      "std          4.757804     0.035034            17.749400             56.521855   \n",
      "min          0.600000     0.009000             1.000000              6.000000   \n",
      "25%          1.800000     0.038000            17.000000             77.000000   \n",
      "50%          3.000000     0.047000            29.000000            118.000000   \n",
      "75%          8.100000     0.065000            41.000000            156.000000   \n",
      "max         65.800000     0.611000           289.000000            440.000000   \n",
      "\n",
      "           density           pH    sulphates      alcohol      quality  \n",
      "count  6497.000000  6497.000000  6497.000000  6497.000000  6497.000000  \n",
      "mean      0.994697     3.218501     0.531268    10.491801     5.818378  \n",
      "std       0.002999     0.160787     0.148806     1.192712     0.873255  \n",
      "min       0.987110     2.720000     0.220000     8.000000     3.000000  \n",
      "25%       0.992340     3.110000     0.430000     9.500000     5.000000  \n",
      "50%       0.994890     3.210000     0.510000    10.300000     6.000000  \n",
      "75%       0.996990     3.320000     0.600000    11.300000     6.000000  \n",
      "max       1.038980     4.010000     2.000000    14.900000     9.000000  \n"
     ]
    }
   ],
   "source": [
    "# Statistische Kennzahlen für numerische Spalten\n",
    "print(\"\\n--- Statistische Kennzahlen ---\")\n",
    "print(data.describe())"
   ]
  },
  {
   "cell_type": "code",
   "execution_count": 8,
   "metadata": {},
   "outputs": [
    {
     "name": "stdout",
     "output_type": "stream",
     "text": [
      "\n",
      "--- Häufigkeiten der Qualitätskategorien ---\n",
      "quality_category\n",
      "Sehr schlecht       0\n",
      "Schlecht          246\n",
      "Okay             4974\n",
      "Gut              1272\n",
      "Sehr gut            5\n",
      "Name: count, dtype: int64\n"
     ]
    }
   ],
   "source": [
    "# Häufigkeiten der Kategorien\n",
    "print(\"\\n--- Häufigkeiten der Qualitätskategorien ---\")\n",
    "\n",
    "# Definierte Kategorien\n",
    "categories = ['Sehr schlecht', 'Schlecht', 'Okay', 'Gut', 'Sehr gut']\n",
    "\n",
    "# Häufigkeiten anzeigen\n",
    "category_counts = data['quality_category'].value_counts().reindex(categories, fill_value=0)\n",
    "print(category_counts)\n"
   ]
  },
  {
   "cell_type": "markdown",
   "metadata": {},
   "source": [
    "## 5.2 Verteilungen der numerischen Spalten"
   ]
  },
  {
   "cell_type": "markdown",
   "metadata": {},
   "source": [
    "## 5.3 Boxplots zur Ausreißeranalyse"
   ]
  }
 ],
 "metadata": {
  "kernelspec": {
   "display_name": "Python 3",
   "language": "python",
   "name": "python3"
  },
  "language_info": {
   "codemirror_mode": {
    "name": "ipython",
    "version": 3
   },
   "file_extension": ".py",
   "mimetype": "text/x-python",
   "name": "python",
   "nbconvert_exporter": "python",
   "pygments_lexer": "ipython3",
   "version": "3.12.1"
  }
 },
 "nbformat": 4,
 "nbformat_minor": 2
}
