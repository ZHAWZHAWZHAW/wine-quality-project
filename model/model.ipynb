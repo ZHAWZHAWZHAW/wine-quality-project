{
 "cells": [
  {
   "cell_type": "markdown",
   "metadata": {},
   "source": [
    "# 6) Import der benötigten Bibliotheken\n",
    "- Entwicklung von Regressions- oder Klassifikationsmodellen,\n",
    "Performance-Vergleich und –Interpretation "
   ]
  },
  {
   "cell_type": "markdown",
   "metadata": {},
   "source": [
    "## 6.1 Import der benötigten Bibliotheken"
   ]
  },
  {
   "cell_type": "code",
   "execution_count": 1,
   "metadata": {},
   "outputs": [],
   "source": [
    "import pandas as pd\n",
    "import numpy as np\n",
    "import matplotlib.pyplot as plt\n",
    "import seaborn as sns\n",
    "from sklearn.model_selection import train_test_split\n",
    "from sklearn.preprocessing import StandardScaler\n",
    "from sklearn.ensemble import RandomForestClassifier\n",
    "from sklearn.linear_model import LogisticRegression\n",
    "from sklearn.svm import SVC\n",
    "from sklearn.metrics import classification_report, confusion_matrix\n",
    "from joblib import dump"
   ]
  },
  {
   "cell_type": "markdown",
   "metadata": {},
   "source": [
    "## 6.2 Datenvorverarbeitung"
   ]
  },
  {
   "cell_type": "code",
   "execution_count": 2,
   "metadata": {},
   "outputs": [],
   "source": [
    "# Daten laden\n",
    "data = pd.read_csv('model/wine_quality.csv')\n",
    "\n",
    "# Features und Zielvariablen definieren\n",
    "X = data.drop(columns=['quality', 'quality_category'])\n",
    "y = data['quality_category']\n",
    "\n",
    "# Daten aufteilen\n",
    "X_train, X_test, y_train, y_test = train_test_split(X, y, test_size=0.2, random_state=42, stratify=y)\n",
    "\n",
    "# Daten skalieren\n",
    "scaler = StandardScaler()\n",
    "X_train_scaled = scaler.fit_transform(X_train)\n",
    "X_test_scaled = scaler.transform(X_test)\n"
   ]
  },
  {
   "cell_type": "markdown",
   "metadata": {},
   "source": [
    "## 6.3 Modelle trainieren"
   ]
  },
  {
   "cell_type": "markdown",
   "metadata": {},
   "source": [
    "### 6.3.1 Random Forest Classifier"
   ]
  },
  {
   "cell_type": "code",
   "execution_count": 4,
   "metadata": {},
   "outputs": [
    {
     "name": "stdout",
     "output_type": "stream",
     "text": [
      "Random Forest Classifier Report\n",
      "              precision    recall  f1-score   support\n",
      "\n",
      "         Gut       0.79      0.55      0.65       255\n",
      "        Okay       0.86      0.96      0.91       995\n",
      "    Schlecht       1.00      0.10      0.19        49\n",
      "    Sehr gut       0.00      0.00      0.00         1\n",
      "\n",
      "    accuracy                           0.85      1300\n",
      "   macro avg       0.66      0.40      0.44      1300\n",
      "weighted avg       0.85      0.85      0.83      1300\n",
      "\n"
     ]
    },
    {
     "name": "stderr",
     "output_type": "stream",
     "text": [
      "/Users/lvs/.pyenv/versions/3.12.1/lib/python3.12/site-packages/sklearn/metrics/_classification.py:1531: UndefinedMetricWarning: Precision is ill-defined and being set to 0.0 in labels with no predicted samples. Use `zero_division` parameter to control this behavior.\n",
      "  _warn_prf(average, modifier, f\"{metric.capitalize()} is\", len(result))\n",
      "/Users/lvs/.pyenv/versions/3.12.1/lib/python3.12/site-packages/sklearn/metrics/_classification.py:1531: UndefinedMetricWarning: Precision is ill-defined and being set to 0.0 in labels with no predicted samples. Use `zero_division` parameter to control this behavior.\n",
      "  _warn_prf(average, modifier, f\"{metric.capitalize()} is\", len(result))\n",
      "/Users/lvs/.pyenv/versions/3.12.1/lib/python3.12/site-packages/sklearn/metrics/_classification.py:1531: UndefinedMetricWarning: Precision is ill-defined and being set to 0.0 in labels with no predicted samples. Use `zero_division` parameter to control this behavior.\n",
      "  _warn_prf(average, modifier, f\"{metric.capitalize()} is\", len(result))\n"
     ]
    }
   ],
   "source": [
    "# Modell initialisieren\n",
    "rf_model = RandomForestClassifier(random_state=42)\n",
    "rf_model.fit(X_train_scaled, y_train)\n",
    "\n",
    "# Vorhersagen und Bewertung\n",
    "y_pred_rf = rf_model.predict(X_test_scaled)\n",
    "print(\"Random Forest Classifier Report\")\n",
    "print(classification_report(y_test, y_pred_rf))"
   ]
  },
  {
   "cell_type": "markdown",
   "metadata": {},
   "source": [
    "### 6.3.2 Logistic Regression"
   ]
  },
  {
   "cell_type": "code",
   "execution_count": 5,
   "metadata": {},
   "outputs": [
    {
     "name": "stdout",
     "output_type": "stream",
     "text": [
      "Logistic Regression Report\n",
      "              precision    recall  f1-score   support\n",
      "\n",
      "         Gut       0.57      0.28      0.37       255\n",
      "        Okay       0.80      0.95      0.87       995\n",
      "    Schlecht       0.00      0.00      0.00        49\n",
      "    Sehr gut       0.00      0.00      0.00         1\n",
      "\n",
      "    accuracy                           0.78      1300\n",
      "   macro avg       0.34      0.31      0.31      1300\n",
      "weighted avg       0.73      0.78      0.74      1300\n",
      "\n"
     ]
    },
    {
     "name": "stderr",
     "output_type": "stream",
     "text": [
      "/Users/lvs/.pyenv/versions/3.12.1/lib/python3.12/site-packages/sklearn/metrics/_classification.py:1531: UndefinedMetricWarning: Precision is ill-defined and being set to 0.0 in labels with no predicted samples. Use `zero_division` parameter to control this behavior.\n",
      "  _warn_prf(average, modifier, f\"{metric.capitalize()} is\", len(result))\n",
      "/Users/lvs/.pyenv/versions/3.12.1/lib/python3.12/site-packages/sklearn/metrics/_classification.py:1531: UndefinedMetricWarning: Precision is ill-defined and being set to 0.0 in labels with no predicted samples. Use `zero_division` parameter to control this behavior.\n",
      "  _warn_prf(average, modifier, f\"{metric.capitalize()} is\", len(result))\n",
      "/Users/lvs/.pyenv/versions/3.12.1/lib/python3.12/site-packages/sklearn/metrics/_classification.py:1531: UndefinedMetricWarning: Precision is ill-defined and being set to 0.0 in labels with no predicted samples. Use `zero_division` parameter to control this behavior.\n",
      "  _warn_prf(average, modifier, f\"{metric.capitalize()} is\", len(result))\n"
     ]
    }
   ],
   "source": [
    "# Modell initialisieren\n",
    "log_model = LogisticRegression(random_state=42)\n",
    "log_model.fit(X_train_scaled, y_train)\n",
    "\n",
    "# Vorhersagen und Bewertung\n",
    "y_pred_log = log_model.predict(X_test_scaled)\n",
    "print(\"Logistic Regression Report\")\n",
    "print(classification_report(y_test, y_pred_log))"
   ]
  },
  {
   "cell_type": "markdown",
   "metadata": {},
   "source": [
    "### 6.3.3 Support Vector Classifier"
   ]
  },
  {
   "cell_type": "code",
   "execution_count": 6,
   "metadata": {},
   "outputs": [
    {
     "name": "stdout",
     "output_type": "stream",
     "text": [
      "Support Vector Classifier Report\n",
      "              precision    recall  f1-score   support\n",
      "\n",
      "         Gut       0.73      0.31      0.43       255\n",
      "        Okay       0.81      0.97      0.88       995\n",
      "    Schlecht       0.00      0.00      0.00        49\n",
      "    Sehr gut       0.00      0.00      0.00         1\n",
      "\n",
      "    accuracy                           0.80      1300\n",
      "   macro avg       0.39      0.32      0.33      1300\n",
      "weighted avg       0.76      0.80      0.76      1300\n",
      "\n"
     ]
    },
    {
     "name": "stderr",
     "output_type": "stream",
     "text": [
      "/Users/lvs/.pyenv/versions/3.12.1/lib/python3.12/site-packages/sklearn/metrics/_classification.py:1531: UndefinedMetricWarning: Precision is ill-defined and being set to 0.0 in labels with no predicted samples. Use `zero_division` parameter to control this behavior.\n",
      "  _warn_prf(average, modifier, f\"{metric.capitalize()} is\", len(result))\n",
      "/Users/lvs/.pyenv/versions/3.12.1/lib/python3.12/site-packages/sklearn/metrics/_classification.py:1531: UndefinedMetricWarning: Precision is ill-defined and being set to 0.0 in labels with no predicted samples. Use `zero_division` parameter to control this behavior.\n",
      "  _warn_prf(average, modifier, f\"{metric.capitalize()} is\", len(result))\n",
      "/Users/lvs/.pyenv/versions/3.12.1/lib/python3.12/site-packages/sklearn/metrics/_classification.py:1531: UndefinedMetricWarning: Precision is ill-defined and being set to 0.0 in labels with no predicted samples. Use `zero_division` parameter to control this behavior.\n",
      "  _warn_prf(average, modifier, f\"{metric.capitalize()} is\", len(result))\n"
     ]
    }
   ],
   "source": [
    "# Modell initialisieren\n",
    "svc_model = SVC(random_state=42)\n",
    "svc_model.fit(X_train_scaled, y_train)\n",
    "\n",
    "# Vorhersagen und Bewertung\n",
    "y_pred_svc = svc_model.predict(X_test_scaled)\n",
    "print(\"Support Vector Classifier Report\")\n",
    "print(classification_report(y_test, y_pred_svc))"
   ]
  },
  {
   "cell_type": "markdown",
   "metadata": {},
   "source": [
    "## 6.4 Ergebnisse visualisieren"
   ]
  },
  {
   "cell_type": "code",
   "execution_count": 7,
   "metadata": {},
   "outputs": [
    {
     "data": {
      "image/png": "[encoded data removed]",
      "text/plain": [
       "<Figure size 1800x500 with 6 Axes>"
      ]
     },
     "metadata": {},
     "output_type": "display_data"
    }
   ],
   "source": [
    "# Verwirrungsmatrix plotten\n",
    "fig, axes = plt.subplots(1, 3, figsize=(18, 5))\n",
    "\n",
    "# Random Forest\n",
    "sns.heatmap(confusion_matrix(y_test, y_pred_rf), annot=True, fmt=\"d\", ax=axes[0], cmap=\"Blues\")\n",
    "axes[0].set_title('Random Forest')\n",
    "\n",
    "# Logistic Regression\n",
    "sns.heatmap(confusion_matrix(y_test, y_pred_log), annot=True, fmt=\"d\", ax=axes[1], cmap=\"Greens\")\n",
    "axes[1].set_title('Logistic Regression')\n",
    "\n",
    "# Support Vector Classifier\n",
    "sns.heatmap(confusion_matrix(y_test, y_pred_svc), annot=True, fmt=\"d\", ax=axes[2], cmap=\"Oranges\")\n",
    "axes[2].set_title('Support Vector Classifier')\n",
    "\n",
    "plt.tight_layout()\n",
    "plt.show()"
   ]
  },
  {
   "cell_type": "markdown",
   "metadata": {},
   "source": [
    "## 6.5 Modelle speichern"
   ]
  },
  {
   "cell_type": "code",
   "execution_count": 8,
   "metadata": {},
   "outputs": [
    {
     "name": "stdout",
     "output_type": "stream",
     "text": [
      "Modelle und Skaler gespeichert!\n"
     ]
    }
   ],
   "source": [
    "# Modelle abspeichern\n",
    "dump(rf_model, 'app/models/random_forest_model.joblib')\n",
    "dump(log_model, 'app/models/logistic_regression_model.joblib')\n",
    "dump(svc_model, 'app/models/svc_model.joblib')\n",
    "\n",
    "# Skaler speichern\n",
    "dump(scaler, 'app/models/scaler.joblib')\n",
    "\n",
    "print(\"Modelle und Skaler gespeichert!\")"
   ]
  },
  {
   "cell_type": "markdown",
   "metadata": {},
   "source": [
    "## 6.6 Analyse der Modelle\n",
    "1) Random Forest\n",
    "    - Stärken:\n",
    "        - Gute Leistung in der Hauptklasse (mittlere Matrixwerte).\n",
    "        - Wenige Fehlklassifikationen, insbesondere in den Klassen mit hoher Häufigkeit.\n",
    "    - Schwächen:\n",
    "        - Fehlklassifikationen in angrenzenden Klassen (z. B. Klasse 0 → Klasse 1).\n",
    "        - Schwierigkeiten mit kleineren Klassen (z. B. Klasse 2).\n",
    "\n",
    "2) Logistic Regression\n",
    "    - Stärken:\n",
    "        - Solide Leistung in der Hauptklasse.\n",
    "        - Mehr Gleichverteilung der Fehler im Vergleich zum Random Forest.\n",
    "    - Schwächen:\n",
    "        - Höhere Anzahl an Fehlklassifikationen in kleineren Klassen.\n",
    "        - Schwächere Gesamtleistung bei schwer zu unterscheidenden Klassen.\n",
    "\n",
    "3) Support Vector Classifier (SVC)\n",
    "    - Stärken:\n",
    "        - Sehr stark in der Vorhersage der Hauptklasse.\n",
    "        - Minimale Fehlklassifikationen bei großen Datenmengen.\n",
    "    - Schwächen:\n",
    "        - Schlechte Vorhersagen für kleine Klassen.\n",
    "        - beranpassung auf die dominierende Klasse."
   ]
  }
 ],
 "metadata": {
  "kernelspec": {
   "display_name": "Python 3",
   "language": "python",
   "name": "python3"
  },
  "language_info": {
   "codemirror_mode": {
    "name": "ipython",
    "version": 3
   },
   "file_extension": ".py",
   "mimetype": "text/x-python",
   "name": "python",
   "nbconvert_exporter": "python",
   "pygments_lexer": "ipython3",
   "version": "3.12.1"
  }
 },
 "nbformat": 4,
 "nbformat_minor": 2
}
